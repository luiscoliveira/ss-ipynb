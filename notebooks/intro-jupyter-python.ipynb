{
 "cells": [
  {
   "cell_type": "markdown",
   "metadata": {},
   "source": [
    "# Introdução aos Jupyter notebooks e ao Python\n",
    "\n",
    "_Luis Caldas de Oliveira_\n",
    "\n",
    "Este notebook tem como objetivo explicar o que é um Jupyter notebook e fazer uma breve introdução à linguagem de programação Python."
   ]
  },
  {
   "cell_type": "markdown",
   "metadata": {},
   "source": [
    "## Jupyter Notebooks\n",
    "\n",
    "Um Jupyter Notebook é um ficheiro com extensão `.ipynb` que é composto por uma sequência de blocos denominados de células. Existem células de texto e células de código que podem ser editadas clicando nelas com o rato (as células de texto precisam de um duplo clique).\n",
    "\n",
    "### Células de código\n",
    "\n",
    "A célula seguinte é um exemplo de uma célula de código:"
   ]
  },
  {
   "cell_type": "code",
   "execution_count": 2,
   "metadata": {},
   "outputs": [
    {
     "name": "stdout",
     "output_type": "stream",
     "text": [
      "Célula de código\n"
     ]
    }
   ],
   "source": [
    "print (\"Célula de código\")"
   ]
  },
  {
   "cell_type": "markdown",
   "metadata": {},
   "source": [
    "Uma célula de código pode ser executada, sendo o resultado do da execução do código apresentado logo a seguir à célula. Para executar uma célula de código basta selecionar a célula e carregar em `Run` na barra de ferramentas no topo do notebook. Nessa barra existe também um botão com `+` que cria uma nova célula a seguir à célula atualmente ativa. A nova célula é, por omissão, uma célula de código que se identifica por ter à sua esquerda a sequência `In [ ]`. Depois de executada a célula de código é colocado um número no espaço entre os parênteses retos que indica a ordem em que as células foram executadas. A memória é persistente o que significa que, por exemplo, o valor das variáveis é mantido até à execução de outra célula e é independente da sua posição no notebook.\n"
   ]
  },
  {
   "cell_type": "markdown",
   "metadata": {},
   "source": [
    "### Células de Texto\n",
    "\n",
    "Para mudar uma célula de código para uma célula de texto muda-se o seletor da barra de ferramentas de `Code` para `Markdown` indicando que o texto deve ser formatado de acordo com esta norma.\n",
    "\n",
    "Este é um exemplo de texto em Markdown:\n",
    "\n",
    "````\n",
    "# Título de nível 1\n",
    "## Título de nível 2\n",
    "### Título de nível 3\n",
    "\n",
    "Lista de items:\n",
    "- **primeiro em negrito**\n",
    "- *segundo em itálico*\n",
    "- _terceiro em itálico_\n",
    "\n",
    "Lista enumerada\n",
    "1. primeiro\n",
    "2. segundo\n",
    "3. terceiro\n",
    "\n",
    "variável `a` e segmento de código\n",
    "```\n",
    "print (\"segmento de código\")\n",
    "```\n",
    "````\n",
    "\n",
    "Após a execução da célula de texto com o comando `Run` o texto fica formatado assim:\n",
    "\n",
    "# Título de nível 1\n",
    "## Título de nível 2\n",
    "### Título de nível 3\n",
    "\n",
    "Lista de items:\n",
    "- **primeiro em negrito**\n",
    "- *segundo em itálico*\n",
    "- _terceiro em itálico_\n",
    "\n",
    "Lista enumerada\n",
    "1. primeiro\n",
    "2. segundo\n",
    "3. terceiro\n",
    "\n",
    "variável `a` e segmento de código\n",
    "```\n",
    "print (\"segmento de código\")\n",
    "```\n",
    "\n",
    "O interpretador de Markdown também aceita fórmula matemáticas em LaTeX. Por exemplo, a sequência:\n",
    "```\n",
    "Expressão no meio do texto $\\sqrt{2}$ ou equação matemática:\n",
    "$$ x = \\frac{-b \\pm \\sqrt{b^2 - 4 a c}}{2a} $$\n",
    "```\n",
    "Resulta em:\n",
    "\n",
    "Expressão no meio do texto $\\sqrt{2}$ ou equação matemática:\n",
    "$$ x = \\frac{-b \\pm \\sqrt{b^2 - 4 a c}}{2a} $$\n",
    "\n",
    "\n",
    "\n",
    "### Truques e atalhos do Jupyter\n",
    "\n",
    "É possível executar comandos do interpretador de comandos do computador (shell) numa célula de código usando o símbolo `!` antes do comando.\n",
    "Por exemplo para saber a diretoria atual:"
   ]
  },
  {
   "cell_type": "code",
   "execution_count": 1,
   "metadata": {},
   "outputs": [
    {
     "name": "stdout",
     "output_type": "stream",
     "text": [
      "/Users/lco/Google Drive/wrk-projects/ss-2022-23/ss-obsidian/jupyter/intro-jupyter-python\r\n"
     ]
    }
   ],
   "source": [
    "!pwd"
   ]
  },
  {
   "cell_type": "markdown",
   "metadata": {},
   "source": [
    "Pode-se também usar comandos especiais do iPython como o `%timeit`para medir o tempo de execução do código:"
   ]
  },
  {
   "cell_type": "code",
   "execution_count": 2,
   "metadata": {},
   "outputs": [
    {
     "name": "stdout",
     "output_type": "stream",
     "text": [
      "21.2 µs ± 918 ns per loop (mean ± std. dev. of 7 runs, 10000 loops each)\n"
     ]
    }
   ],
   "source": [
    "%timeit [x**2 for x in range(100)]"
   ]
  },
  {
   "cell_type": "markdown",
   "metadata": {},
   "source": [
    "Pode-se também usar `?` para obter ajuda sobre um comando:"
   ]
  },
  {
   "cell_type": "code",
   "execution_count": 5,
   "metadata": {},
   "outputs": [],
   "source": [
    "?print"
   ]
  },
  {
   "cell_type": "markdown",
   "metadata": {},
   "source": [
    "Também se pode usar o **Tab** para completar o texto ou **Shift-Tab** para obter uma ajuda rápida."
   ]
  },
  {
   "cell_type": "markdown",
   "metadata": {},
   "source": [
    "## Python Básico\n",
    "\n",
    "### Variáveis e operações básicas\n",
    "\n",
    "O Python segue as normas habituais para os operadores de atribuição (`=`), soma (`+`), subtração (`-`), multiplicação (`*`) e divisão (`/`). Em Python as variáveis não precisam de ser declaradas, assumindo o tipo adequado à atribuição que for feita."
   ]
  },
  {
   "cell_type": "code",
   "execution_count": 7,
   "metadata": {},
   "outputs": [
    {
     "name": "stdout",
     "output_type": "stream",
     "text": [
      "3   3.2   abcd\n"
     ]
    }
   ],
   "source": [
    "inteiro = 3\n",
    "real = 3.2\n",
    "cadeia = \"abcd\"\n",
    "print (inteiro, \" \", real, \" \", cadeia)"
   ]
  },
  {
   "cell_type": "markdown",
   "metadata": {},
   "source": [
    "Uma atribuição pode mudar o tipo da variável"
   ]
  },
  {
   "cell_type": "code",
   "execution_count": 9,
   "metadata": {},
   "outputs": [
    {
     "name": "stdout",
     "output_type": "stream",
     "text": [
      "abcd\n"
     ]
    }
   ],
   "source": [
    "real = cadeia\n",
    "print(real)"
   ]
  },
  {
   "cell_type": "markdown",
   "metadata": {},
   "source": [
    "Uma das coisas mais originais do Python é que a identação do código é a forma de expecificar um bloco.\n",
    "Por exemplo na instrução `if`, o código a executar no caso da condição ser verdadeira deve estar identado:"
   ]
  },
  {
   "cell_type": "code",
   "execution_count": 10,
   "metadata": {},
   "outputs": [
    {
     "name": "stdout",
     "output_type": "stream",
     "text": [
      "5 > 2\n"
     ]
    }
   ],
   "source": [
    "x, y = 5, 2\n",
    "if x > 2:\n",
    "    print (x, \">\", y)\n",
    "else:\n",
    "    print (x, \"<\", y)"
   ]
  },
  {
   "cell_type": "markdown",
   "metadata": {},
   "source": [
    "### Tipos de dados\n",
    "\n",
    "O Pyhthon tem 6 tipos de dados básicos: inteiros, números de vírgula flutuante, cadeias de carateres, listas, tuplos e dicionários.\n",
    "Os 3 primeiros são semelhantes a outras linguagens de programação mas os restantes necessitam de uma explicação adicional"
   ]
  },
  {
   "cell_type": "markdown",
   "metadata": {},
   "source": [
    "#### Listas\n",
    "\n",
    "As listas são semelhantes aos vetores de outras linguagem mas em que cada elemento pode ter um tipo diferente.\n",
    "O Python permite por exemplo:"
   ]
  },
  {
   "cell_type": "code",
   "execution_count": 26,
   "metadata": {},
   "outputs": [
    {
     "name": "stdout",
     "output_type": "stream",
     "text": [
      "1\n"
     ]
    }
   ],
   "source": [
    "lista = [1, 2.1, \"abcd\"]\n",
    "print(lista[0])"
   ]
  },
  {
   "cell_type": "markdown",
   "metadata": {},
   "source": [
    "O primeiro elemento de uma lista tem o índice `0`. Pode-se obter o comprimento de uma lista com a função `len()`. Para imprimir o último elemento da lista pode-se fazer:"
   ]
  },
  {
   "cell_type": "code",
   "execution_count": 27,
   "metadata": {},
   "outputs": [
    {
     "name": "stdout",
     "output_type": "stream",
     "text": [
      "abcd\n"
     ]
    }
   ],
   "source": [
    "print(lista[len(lista)-1])"
   ]
  },
  {
   "cell_type": "markdown",
   "metadata": {},
   "source": [
    "ou mais facilmente:"
   ]
  },
  {
   "cell_type": "code",
   "execution_count": 28,
   "metadata": {},
   "outputs": [
    {
     "name": "stdout",
     "output_type": "stream",
     "text": [
      "abcd\n"
     ]
    }
   ],
   "source": [
    "print(lista [-1])"
   ]
  },
  {
   "cell_type": "markdown",
   "metadata": {},
   "source": [
    "#### Tuplos\n",
    "\n",
    "Um tuplo é usado para guardar vários objetos numa única variável. A diferença entre uma lista e um tuplo é o os elementos da primeira podem ser alterados enquanto um tuplo é imutável, ou seja, tem de se mudar todos os seus elementos."
   ]
  },
  {
   "cell_type": "code",
   "execution_count": 54,
   "metadata": {},
   "outputs": [
    {
     "name": "stdout",
     "output_type": "stream",
     "text": [
      "[0.5, 0.7, 0.9] (0.5, 0.7, 0.9)\n",
      "Erro: um tuplo é imutável\n",
      "[0.1, 0.7, 0.9] (0.5, 0.7, 0.9)\n"
     ]
    }
   ],
   "source": [
    "lista = [0.5, 0.7, 0.9]\n",
    "tuplo = (0.5, 0.7, 0.9)\n",
    "print(lista, tuplo)\n",
    "lista[0] = 0.1\n",
    "try:\n",
    "    tuplo[0] = 0.1\n",
    "except TypeError:\n",
    "    print(\"Erro: um tuplo é imutável\")\n",
    "print(lista, tuplo)"
   ]
  },
  {
   "cell_type": "markdown",
   "metadata": {},
   "source": [
    "#### Dicionários\n",
    "\n",
    "Um dicionário é uma lista em que cada elemento é indexado por uma chave."
   ]
  },
  {
   "cell_type": "code",
   "execution_count": 60,
   "metadata": {},
   "outputs": [
    {
     "name": "stdout",
     "output_type": "stream",
     "text": [
      "2\n",
      "dict_keys(['João', 'Maria', 'Pedro'])\n",
      "dict_items([('João', 5), ('Maria', 3), ('Pedro', 2)])\n"
     ]
    }
   ],
   "source": [
    "nomes_alunos = {\"João\": 5, \"Maria\": 3}\n",
    "nomes_alunos[\"Pedro\"] = 2\n",
    "print(nomes_alunos[\"Pedro\"])\n",
    "print(nomes_alunos.keys())\n",
    "print(nomes_alunos.items())"
   ]
  },
  {
   "cell_type": "markdown",
   "metadata": {},
   "source": [
    "### Objetos em Python\n",
    "\n",
    "Em Python tudo é um objeto, ou seja, uma instância de uma classe que tem associada um conjunto de comportamentos oferecido pela classe.\n",
    "\n",
    "Estes comportamentos assumem a forma de propriedades (atributos do objeto) e métodos (funções que atuam sobre o objeto).\n",
    "\n",
    "Por exemplo, podemos criar uma variável `z` que é uma instância da classe dos números complexos e que tem associado as propriedades `real` e `imag` e o método `conjugate()`:"
   ]
  },
  {
   "cell_type": "code",
   "execution_count": 44,
   "metadata": {},
   "outputs": [
    {
     "name": "stdout",
     "output_type": "stream",
     "text": [
      "(1+2j)\n",
      "<class 'complex'>\n",
      "Re(z)= 1.0  Im(z)= 2.0\n",
      "(1-2j)\n"
     ]
    }
   ],
   "source": [
    "z = 1 + 2j\n",
    "print(z)\n",
    "print(type(z))\n",
    "print(\"Re(z)=\", z.real, \" Im(z)=\",z.imag)\n",
    "print(z.conjugate())"
   ]
  },
  {
   "cell_type": "markdown",
   "metadata": {},
   "source": [
    "### Cadeias de carateres e listas\n",
    "\n",
    "As listas e as cadeias de carateres são dois objetos relacionados e que têm alguns métodos comuns:\n"
   ]
  },
  {
   "cell_type": "code",
   "execution_count": 22,
   "metadata": {},
   "outputs": [
    {
     "name": "stdout",
     "output_type": "stream",
     "text": [
      "[3, 4, 5] a u\n",
      "1 3\n",
      "5 19\n",
      "[1, 2, 3, 4, 5, 6] Era uma vez um gato.\n"
     ]
    }
   ],
   "source": [
    "lista = [1, 2, 3, 4, 5]\n",
    "cadeia = \"Era uma vez um gato\"\n",
    "print(lista[2:5], cadeia[2:5])\n",
    "print(lista.count(3), cadeia.count(\"a\"))\n",
    "print(len(lista), len(cadeia))\n",
    "print(lista + [6], cadeia + \".\")"
   ]
  },
  {
   "cell_type": "markdown",
   "metadata": {},
   "source": [
    "Há no entanto métodos específicos para [cadeias de carateres](https://www.w3schools.com/python/python_ref_string.asp) e para [listas](https://www.w3schools.com/python/python_ref_list.asp).\n",
    "Alguns exemplos:"
   ]
  },
  {
   "cell_type": "code",
   "execution_count": 23,
   "metadata": {},
   "outputs": [
    {
     "name": "stdout",
     "output_type": "stream",
     "text": [
      "['Era', 'uma', 'vez', 'um', 'gato']\n",
      "['Era', 'uma', 'vez', 'um', 'gato', 'maltês']\n",
      "['Era', 'gato', 'maltês', 'um', 'uma', 'vez']\n"
     ]
    }
   ],
   "source": [
    "palavras = cadeia.split()\n",
    "print(palavras)\n",
    "palavras.append(\"maltês\")\n",
    "print(palavras)\n",
    "palavras.sort()\n",
    "print(palavras)"
   ]
  },
  {
   "cell_type": "markdown",
   "metadata": {},
   "source": [
    "### Ciclos em Python\n",
    "\n",
    "Os ciclos são construídos com a instrução `for a in b` em que `a` é uma variável e `b` é uma lista. Por exemplo:"
   ]
  },
  {
   "cell_type": "code",
   "execution_count": 24,
   "metadata": {},
   "outputs": [
    {
     "name": "stdout",
     "output_type": "stream",
     "text": [
      "10\n",
      "11\n",
      "12\n"
     ]
    }
   ],
   "source": [
    "sinal = [10, 11, 12]\n",
    "for n in [0, 1, 2]:\n",
    "    print(sinal[n])"
   ]
  },
  {
   "cell_type": "markdown",
   "metadata": {},
   "source": [
    "É mais elegante iterar sobre a própria lista"
   ]
  },
  {
   "cell_type": "code",
   "execution_count": 25,
   "metadata": {},
   "outputs": [
    {
     "name": "stdout",
     "output_type": "stream",
     "text": [
      "10\n",
      "11\n",
      "12\n"
     ]
    }
   ],
   "source": [
    "sinal = [10, 11, 12]\n",
    "for amostra in sinal:\n",
    "    print(amostra)"
   ]
  },
  {
   "cell_type": "markdown",
   "metadata": {},
   "source": [
    "A função `range()` gera um objeto para iterar"
   ]
  },
  {
   "cell_type": "code",
   "execution_count": 38,
   "metadata": {},
   "outputs": [
    {
     "name": "stdout",
     "output_type": "stream",
     "text": [
      "10\n",
      "11\n",
      "12\n"
     ]
    }
   ],
   "source": [
    "sinal = [10, 11, 12]\n",
    "for n in range(3):\n",
    "    print(sinal[n])"
   ]
  },
  {
   "cell_type": "markdown",
   "metadata": {},
   "source": [
    "Os ciclos podem também ser usados para gerar uma lista"
   ]
  },
  {
   "cell_type": "code",
   "execution_count": 45,
   "metadata": {},
   "outputs": [
    {
     "name": "stdout",
     "output_type": "stream",
     "text": [
      "['5', '6', '7', '8']\n"
     ]
    }
   ],
   "source": [
    "lista_inteiros = [5, 6, 7, 8]\n",
    "lista_carateres = [str(i) for i in lista_inteiros]\n",
    "print(lista_carateres)"
   ]
  },
  {
   "cell_type": "markdown",
   "metadata": {},
   "source": [
    "### Funções\n",
    "\n",
    "As funções são definidas com a instrução `def nome(argumentos):` seguida de um bloco identado com o código da função terminado com\n",
    "a instrução `return ...`.\n",
    "\n",
    "Por exemplo:"
   ]
  },
  {
   "cell_type": "code",
   "execution_count": 40,
   "metadata": {},
   "outputs": [
    {
     "name": "stdout",
     "output_type": "stream",
     "text": [
      "[15, 16, 17]\n"
     ]
    }
   ],
   "source": [
    "def soma_5(lista_entrada):\n",
    "    lista_saida = [i+5 for i in lista_entrada]\n",
    "    return lista_saida\n",
    "\n",
    "print(soma_5([10, 11, 12]))"
   ]
  },
  {
   "cell_type": "markdown",
   "metadata": {},
   "source": [
    "Se a função tiver mais de um argumento, estes separam-se com vírgulas.\n",
    "Podem também ser atribuídos valores por omissão aos argumentos se estes não forem definidos quando a função é chamada.\n",
    "\n",
    "É boa prática indicar na definição da função a classe de objetos que aceita à entrada e a que resulta da sua execução."
   ]
  },
  {
   "cell_type": "code",
   "execution_count": 69,
   "metadata": {},
   "outputs": [
    {
     "name": "stdout",
     "output_type": "stream",
     "text": [
      "[11, 12, 13]\n",
      "[13, 14, 15]\n"
     ]
    }
   ],
   "source": [
    "def soma_val(lista_entrada: list, val: int = 1) -> list:\n",
    "    lista_saida = [i+val for i in lista_entrada]\n",
    "    return lista_saida\n",
    "\n",
    "print(soma_val([10, 11, 12]))\n",
    "print(soma_val([10, 11, 12],3))"
   ]
  },
  {
   "cell_type": "markdown",
   "metadata": {},
   "source": [
    "### Importação de bibliotecas\n",
    "\n",
    "As funcionalidades do Python podem ser extendidas através da importação de bibliotecas. Por exemplo, a biblioteca NumPy permite operar com matrizes multidimensionais chamadas de `ndarrays`.\n",
    "Por exemplo:"
   ]
  },
  {
   "cell_type": "code",
   "execution_count": 47,
   "metadata": {},
   "outputs": [
    {
     "name": "stdout",
     "output_type": "stream",
     "text": [
      "<class 'numpy.ndarray'>\n",
      "[10 11 12]\n"
     ]
    }
   ],
   "source": [
    "import numpy\n",
    "\n",
    "a = numpy.array([10, 11, 12])\n",
    "print(type(a))\n",
    "print(a)"
   ]
  },
  {
   "cell_type": "markdown",
   "metadata": {},
   "source": [
    "Pode-se também definir um nome abreviado para chamar as funções do pacote:"
   ]
  },
  {
   "cell_type": "code",
   "execution_count": 48,
   "metadata": {},
   "outputs": [
    {
     "name": "stdout",
     "output_type": "stream",
     "text": [
      "<class 'numpy.ndarray'>\n",
      "[10 11 12]\n"
     ]
    }
   ],
   "source": [
    "import numpy as np\n",
    "\n",
    "a = np.array([10, 11, 12])\n",
    "print(type(a))\n",
    "print(a)"
   ]
  },
  {
   "cell_type": "markdown",
   "metadata": {},
   "source": [
    "Há bibliotacas que são instalados em conjunto com o Python no computador, mas há outras que necessitam de ser instaladas antes da sua importação num programa. \n",
    "Por exemplo, se a biblioteca SymPy não estiver instalada é preciso primeiro fazer:\n",
    "```\n",
    "!pip install sympy\n",
    "```\n",
    "Se a biblioteca já estiver instalada, não há alteração."
   ]
  },
  {
   "cell_type": "code",
   "execution_count": 51,
   "metadata": {},
   "outputs": [
    {
     "name": "stdout",
     "output_type": "stream",
     "text": [
      "Requirement already satisfied: sympy in /Library/Frameworks/Python.framework/Versions/3.9/lib/python3.9/site-packages (1.11.1)\r\n",
      "Requirement already satisfied: mpmath>=0.19 in /Library/Frameworks/Python.framework/Versions/3.9/lib/python3.9/site-packages (from sympy) (1.2.1)\r\n"
     ]
    }
   ],
   "source": [
    "!pip install sympy"
   ]
  },
  {
   "cell_type": "code",
   "execution_count": 52,
   "metadata": {},
   "outputs": [],
   "source": [
    "import sympy as sp"
   ]
  },
  {
   "cell_type": "markdown",
   "metadata": {},
   "source": [
    "A forma de utilizar estas bibliotecas será feita em notebooks separados."
   ]
  },
  {
   "cell_type": "code",
   "execution_count": null,
   "metadata": {},
   "outputs": [],
   "source": []
  }
 ],
 "metadata": {
  "jupytext": {
   "formats": "ipynb,md"
  },
  "kernelspec": {
   "display_name": "Python 3 (ipykernel)",
   "language": "python",
   "name": "python3"
  },
  "language_info": {
   "codemirror_mode": {
    "name": "ipython",
    "version": 3
   },
   "file_extension": ".py",
   "mimetype": "text/x-python",
   "name": "python",
   "nbconvert_exporter": "python",
   "pygments_lexer": "ipython3",
   "version": "3.7.11"
  }
 },
 "nbformat": 4,
 "nbformat_minor": 4
}
