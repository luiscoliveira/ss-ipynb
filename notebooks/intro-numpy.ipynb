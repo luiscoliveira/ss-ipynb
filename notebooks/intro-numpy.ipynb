{
 "cells": [
  {
   "cell_type": "markdown",
   "metadata": {},
   "source": [
    "# Introdução à Biblioteca NumPy\n",
    "\n",
    "_Luis Caldas de Oliveira_\n",
    "\n",
    "O NumPy é a biblioteca normalmente usada em Python quando se pretende realizar computação numérica de forma eficiente. Nesse caso a estrutura de dados mais comum é a matriz multi-dimensional."
   ]
  },
  {
   "cell_type": "markdown",
   "metadata": {},
   "source": [
    "## Matrizes multi-dimensionais\n",
    "\n",
    "A classe `ndarray`, definida na biblioteca NumPy, permite realizar operações sobre matrizes de forma mais intuitiva e rápida do que se conseguiria com a classe `list` da versão de base do Python.\n",
    "\n",
    "Em listas a operação `+` faz a concatenação de duas listas e a `*` não tem significado:"
   ]
  },
  {
   "cell_type": "code",
   "execution_count": 44,
   "metadata": {},
   "outputs": [
    {
     "name": "stdout",
     "output_type": "stream",
     "text": [
      "a+b: [1, 2, 3, 4, 5, 6]\n",
      "A multiplicação de listas (a*b) não tem significado em Python\n"
     ]
    }
   ],
   "source": [
    "a = [1,2,3]\n",
    "b = [4,5,6]\n",
    "print(\"a+b:\", a+b)\n",
    "try:\n",
    "    print(a*b)\n",
    "except TypeError:\n",
    "    print(\"A multiplicação de listas (a*b) não tem significado em Python\")"
   ]
  },
  {
   "cell_type": "markdown",
   "metadata": {},
   "source": [
    "As mesmas operações têm um significado diferente quando operam sobre a classe `ndarray`:"
   ]
  },
  {
   "cell_type": "code",
   "execution_count": 45,
   "metadata": {},
   "outputs": [
    {
     "name": "stdout",
     "output_type": "stream",
     "text": [
      "a+b: [5 7 9]\n",
      "a*b: [ 4 10 18]\n"
     ]
    }
   ],
   "source": [
    "import numpy as np\n",
    "\n",
    "a = np.array([1,2,3])\n",
    "b = np.array([4,5,6])\n",
    "print(\"a+b:\", a+b)\n",
    "print(\"a*b:\", a*b)"
   ]
  },
  {
   "cell_type": "markdown",
   "metadata": {},
   "source": [
    "A classe `ndarray` tem também as característas esperadas de uma matriz multi-dimensional, nomeadamente os diferentes eixos. No caso de um matriz bi-dimensional, o primeiro eixo corresponde às linhas da matriz e o segundo às colunas"
   ]
  },
  {
   "cell_type": "code",
   "execution_count": 54,
   "metadata": {},
   "outputs": [
    {
     "name": "stdout",
     "output_type": "stream",
     "text": [
      "[[1 2]\n",
      " [3 4]]\n",
      " \n",
      "[1 2]\n",
      "matriz2D.sum(axis=0)= [4 6]\n",
      "matriz2D.sum(axis=1)= [3 7]\n"
     ]
    }
   ],
   "source": [
    "matriz2D = np.array([[1, 2], [3, 4]])\n",
    "print(matriz2D)\n",
    "print(\" \")\n",
    "print(matriz2D[0])\n",
    "print(\"matriz2D.sum(axis=0)=\", matriz2D.sum(axis=0))\n",
    "print(\"matriz2D.sum(axis=1)=\", matriz2D.sum(axis=1))"
   ]
  },
  {
   "cell_type": "markdown",
   "metadata": {},
   "source": [
    "Para uma matriz com 3 dimensões:"
   ]
  },
  {
   "cell_type": "code",
   "execution_count": 47,
   "metadata": {},
   "outputs": [
    {
     "name": "stdout",
     "output_type": "stream",
     "text": [
      "[[[1 2 3]\n",
      "  [4 5 6]\n",
      "  [7 8 9]]\n",
      "\n",
      " [[1 2 3]\n",
      "  [4 5 6]\n",
      "  [7 8 9]]\n",
      "\n",
      " [[1 2 3]\n",
      "  [4 5 6]\n",
      "  [7 8 9]]]\n",
      " \n",
      "[[ 3  6  9]\n",
      " [12 15 18]\n",
      " [21 24 27]]\n",
      " \n",
      "[[12 15 18]\n",
      " [12 15 18]\n",
      " [12 15 18]]\n",
      " \n",
      "[[ 6 15 24]\n",
      " [ 6 15 24]\n",
      " [ 6 15 24]]\n"
     ]
    }
   ],
   "source": [
    "matriz3D = np.array([[[1, 2, 3], [4, 5, 6], [7, 8, 9]],\n",
    "                     [[1, 2, 3], [4, 5, 6], [7, 8, 9]],\n",
    "                     [[1, 2, 3], [4, 5, 6], [7, 8, 9]]])\n",
    "print(matriz3D)\n",
    "print(\" \")\n",
    "print(matriz3D.sum(axis=0))\n",
    "print(\" \")\n",
    "print(matriz3D.sum(axis=1))\n",
    "print(\" \")\n",
    "print(matriz3D.sum(axis=2))"
   ]
  },
  {
   "cell_type": "markdown",
   "metadata": {},
   "source": [
    "As operações matriciais são fáceis de indicar:"
   ]
  },
  {
   "cell_type": "code",
   "execution_count": 48,
   "metadata": {},
   "outputs": [
    {
     "name": "stdout",
     "output_type": "stream",
     "text": [
      "[[ 2  4  6]\n",
      " [ 8 10 12]\n",
      " [14 16 18]]\n",
      "[[ 1  4  9]\n",
      " [16 25 36]\n",
      " [49 64 81]]\n"
     ]
    }
   ],
   "source": [
    "m1 = np.array([[1, 2, 3], [4, 5, 6], [7, 8, 9]])\n",
    "m2 = np.array([[1, 2, 3], [4, 5, 6], [7, 8, 9]])\n",
    "print(m1+m2)\n",
    "print(m1*m2)"
   ]
  },
  {
   "cell_type": "markdown",
   "metadata": {},
   "source": [
    "## Funções para matrizes multi-dimensionais\n",
    "\n",
    "Ao definir funções para processar matrizes multi-dimensionais é útil tornar patente que estas recebem e retornam objetos da classe `ndarray`."
   ]
  },
  {
   "cell_type": "code",
   "execution_count": 49,
   "metadata": {},
   "outputs": [
    {
     "name": "stdout",
     "output_type": "stream",
     "text": [
      "[[1 2]\n",
      " [3 4]]\n",
      "[[ 1  4]\n",
      " [ 9 16]]\n"
     ]
    }
   ],
   "source": [
    "def square(x: np.ndarray) -> np.ndarray:\n",
    "    '''\n",
    "    Square each element in the input ndarray.\n",
    "    '''\n",
    "    return np.power(x, 2)\n",
    "\n",
    "matriz = np.array([[1, 2], [3, 4]])\n",
    "print(matriz)\n",
    "print(square(matriz))"
   ]
  },
  {
   "cell_type": "markdown",
   "metadata": {},
   "source": [
    "## Representação gráfica\n",
    "\n",
    "A biblioteca `matplotlib` pode ser usada para visualizar o conteúdo de vetores e matrizes.\n",
    "\n",
    "Para visualizar um vetor que tem amostras de uma função sinusoidal:"
   ]
  },
  {
   "cell_type": "code",
   "execution_count": 50,
   "metadata": {},
   "outputs": [
    {
     "data": {
      "image/png": "[encoded data removed]",
      "text/plain": [
       "<Figure size 432x288 with 1 Axes>"
      ]
     },
     "metadata": {
      "needs_background": "light"
     },
     "output_type": "display_data"
    }
   ],
   "source": [
    "import matplotlib.pyplot as plt\n",
    "\n",
    "x = np.arange(-2*np.pi, 2*np.pi, 0.1)\n",
    "y = np.sin(x)\n",
    "plt.plot(x, y)\n",
    "plt.xlabel(\"x\")\n",
    "plt.ylabel(\"y\")\n",
    "plt.title(\"y = sin(x)\");"
   ]
  },
  {
   "cell_type": "markdown",
   "metadata": {},
   "source": [
    "Para ter mais controlo sobre as figuras, o melhor é usada a abordagem dos objetos para criar um objeto figura que contém todo o gráfico."
   ]
  },
  {
   "cell_type": "code",
   "execution_count": 51,
   "metadata": {},
   "outputs": [
    {
     "data": {
      "text/plain": [
       "Text(0.5, 1.0, 'y = sin(x)')"
      ]
     },
     "execution_count": 51,
     "metadata": {},
     "output_type": "execute_result"
    },
    {
     "data": {
      "image/png": "[encoded data removed]",
      "text/plain": [
       "<Figure size 432x288 with 1 Axes>"
      ]
     },
     "metadata": {
      "needs_background": "light"
     },
     "output_type": "display_data"
    }
   ],
   "source": [
    "# O objeto fig vai conter todo o gráfico\n",
    "fig = plt.figure()\n",
    "# Divide o espaço da figura numa linha e numa coluna e usa a\n",
    "# primeira, divisão, ou seja, o gráfico vai ocupar todo o espaço\n",
    "ax = fig.add_subplot(111)\n",
    "# junta coisas ao espaço ax\n",
    "ax.plot(x, y)\n",
    "ax.set_xlabel(\"x\")\n",
    "ax.set_ylabel(\"y\")\n",
    "ax.set_title(\"y = sin(x)\")"
   ]
  },
  {
   "cell_type": "markdown",
   "metadata": {},
   "source": [
    "Existe uma coleção de [tutoriais para o matplotlib](https://matplotlib.org/stable/tutorials/index.html)"
   ]
  }
 ],
 "metadata": {
  "jupytext": {
   "formats": "ipynb,md"
  },
  "kernelspec": {
   "display_name": "Python 3 (ipykernel)",
   "language": "python",
   "name": "python3"
  },
  "language_info": {
   "codemirror_mode": {
    "name": "ipython",
    "version": 3
   },
   "file_extension": ".py",
   "mimetype": "text/x-python",
   "name": "python",
   "nbconvert_exporter": "python",
   "pygments_lexer": "ipython3",
   "version": "3.7.11"
  }
 },
 "nbformat": 4,
 "nbformat_minor": 4
}
